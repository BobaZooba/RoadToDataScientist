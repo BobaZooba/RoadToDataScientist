{
 "cells": [
  {
   "cell_type": "code",
   "execution_count": 123,
   "metadata": {
    "collapsed": true
   },
   "outputs": [],
   "source": [
    "import numpy as np\n",
    "import pandas as pd\n",
    "from pandas import DataFrame, Series\n",
    "\n",
    "import numpy as np\n",
    "import pandas as pd\n",
    "import matplotlib.pyplot as plt\n",
    "%matplotlib inline\n",
    "from IPython.display import display\n",
    "plt.rc('font', family='Verdana')\n",
    "\n",
    "import seaborn as sns\n",
    "\n",
    "import warnings\n",
    "warnings.filterwarnings('ignore')\n",
    "\n",
    "from sklearn.linear_model import LogisticRegression\n",
    "from sklearn.ensemble import RandomForestClassifier\n",
    "from sklearn.model_selection import train_test_split\n",
    "\n",
    "from sklearn.model_selection import cross_val_score, KFold\n",
    "from sklearn.model_selection import StratifiedKFold\n",
    "\n",
    "from sklearn.model_selection import GridSearchCV"
   ]
  },
  {
   "cell_type": "code",
   "execution_count": 124,
   "metadata": {},
   "outputs": [
    {
     "data": {
      "text/plain": [
       "0        0\n",
       "1        0\n",
       "2        0\n",
       "3        0\n",
       "4        0\n",
       "5        0\n",
       "6        0\n",
       "7        0\n",
       "8        0\n",
       "9        0\n",
       "10       0\n",
       "11       1\n",
       "12       1\n",
       "13       0\n",
       "14       0\n",
       "15       1\n",
       "16       0\n",
       "17       0\n",
       "18       1\n",
       "19       0\n",
       "20       0\n",
       "21       0\n",
       "22       0\n",
       "23       0\n",
       "24       0\n",
       "25       0\n",
       "26       0\n",
       "27       1\n",
       "28       0\n",
       "29       0\n",
       "        ..\n",
       "15193    0\n",
       "15194    0\n",
       "15195    0\n",
       "15196    0\n",
       "15197    0\n",
       "15198    0\n",
       "15199    0\n",
       "15200    1\n",
       "15201    0\n",
       "15202    0\n",
       "15203    0\n",
       "15204    1\n",
       "15205    0\n",
       "15206    0\n",
       "15207    0\n",
       "15208    0\n",
       "15209    1\n",
       "15210    0\n",
       "15211    0\n",
       "15212    0\n",
       "15213    1\n",
       "15214    0\n",
       "15215    0\n",
       "15216    0\n",
       "15217    0\n",
       "15218    0\n",
       "15219    0\n",
       "15220    0\n",
       "15221    0\n",
       "15222    0\n",
       "Name: TARGET_1, Length: 15223, dtype: int64"
      ]
     },
     "execution_count": 124,
     "metadata": {},
     "output_type": "execute_result"
    }
   ],
   "source": [
    "y"
   ]
  },
  {
   "cell_type": "code",
   "execution_count": 125,
   "metadata": {},
   "outputs": [
    {
     "data": {
      "text/plain": [
       "0        1\n",
       "1        1\n",
       "2        1\n",
       "3        1\n",
       "4        1\n",
       "5        1\n",
       "6        1\n",
       "7        1\n",
       "8        1\n",
       "9        1\n",
       "10       1\n",
       "11       0\n",
       "12       0\n",
       "13       1\n",
       "14       1\n",
       "15       0\n",
       "16       1\n",
       "17       1\n",
       "18       0\n",
       "19       1\n",
       "20       1\n",
       "21       1\n",
       "22       1\n",
       "23       1\n",
       "24       1\n",
       "25       1\n",
       "26       1\n",
       "27       0\n",
       "28       1\n",
       "29       1\n",
       "        ..\n",
       "15193    1\n",
       "15194    1\n",
       "15195    1\n",
       "15196    1\n",
       "15197    1\n",
       "15198    1\n",
       "15199    1\n",
       "15200    0\n",
       "15201    1\n",
       "15202    1\n",
       "15203    1\n",
       "15204    0\n",
       "15205    1\n",
       "15206    1\n",
       "15207    1\n",
       "15208    1\n",
       "15209    0\n",
       "15210    1\n",
       "15211    1\n",
       "15212    1\n",
       "15213    0\n",
       "15214    1\n",
       "15215    1\n",
       "15216    1\n",
       "15217    1\n",
       "15218    1\n",
       "15219    1\n",
       "15220    1\n",
       "15221    1\n",
       "15222    1\n",
       "Name: TARGET_0, Length: 15223, dtype: int64"
      ]
     },
     "execution_count": 125,
     "metadata": {},
     "output_type": "execute_result"
    }
   ],
   "source": [
    "data_dummies = DataFrame.from_csv('data/processed_data_version_1.csv', encoding='utf-8')\n",
    "data_dummies['TARGET_0']"
   ]
  },
  {
   "cell_type": "code",
   "execution_count": 133,
   "metadata": {},
   "outputs": [
    {
     "name": "stdout",
     "output_type": "stream",
     "text": [
      "<class 'pandas.core.frame.DataFrame'>\n",
      "Int64Index: 15223 entries, 0 to 15222\n",
      "Columns: 292 entries, AGE to WITHOUT_DELAY_1\n",
      "dtypes: float64(8), int64(284)\n",
      "memory usage: 34.0 MB\n"
     ]
    }
   ],
   "source": [
    "data.info()"
   ]
  },
  {
   "cell_type": "code",
   "execution_count": 126,
   "metadata": {
    "collapsed": true
   },
   "outputs": [],
   "source": [
    "y = data_dummies.loc[:, 'TARGET_1']\n",
    "data_dummies.drop(['TARGET_0', 'TARGET_1'], axis=1, inplace=True)\n",
    "X = data_dummies.loc[:, 'AGE':'GEN_PHONE_FL_1']\n",
    "logreg_fullset = LogisticRegression().fit(X, y)\n",
    "forest_fullset = RandomForestClassifier(n_estimators=500, max_depth=12, random_state=152, n_jobs=-1).fit(X, y)"
   ]
  },
  {
   "cell_type": "code",
   "execution_count": 130,
   "metadata": {},
   "outputs": [
    {
     "data": {
      "text/plain": [
       "array([0, 0, 0, ..., 0, 0, 0])"
      ]
     },
     "execution_count": 130,
     "metadata": {},
     "output_type": "execute_result"
    }
   ],
   "source": [
    "forest_fullset.predict(X)"
   ]
  },
  {
   "cell_type": "code",
   "execution_count": 132,
   "metadata": {},
   "outputs": [
    {
     "data": {
      "text/plain": [
       "0.50717439293598232"
      ]
     },
     "execution_count": 132,
     "metadata": {},
     "output_type": "execute_result"
    }
   ],
   "source": [
    "roc_auc_score(y, forest_fullset.predict(X))"
   ]
  },
  {
   "cell_type": "code",
   "execution_count": 131,
   "metadata": {},
   "outputs": [
    {
     "data": {
      "text/plain": [
       "0.50082044853628283"
      ]
     },
     "execution_count": 131,
     "metadata": {},
     "output_type": "execute_result"
    }
   ],
   "source": [
    "roc_auc_score(y, logreg_fullset.predict(X))"
   ]
  },
  {
   "cell_type": "code",
   "execution_count": null,
   "metadata": {
    "collapsed": true
   },
   "outputs": [],
   "source": []
  },
  {
   "cell_type": "code",
   "execution_count": 104,
   "metadata": {},
   "outputs": [
    {
     "data": {
      "text/plain": [
       "0    0\n",
       "1    0\n",
       "2    0\n",
       "3    0\n",
       "4    0\n",
       "Name: TARGET_1, dtype: int64"
      ]
     },
     "execution_count": 104,
     "metadata": {},
     "output_type": "execute_result"
    }
   ],
   "source": [
    "y.head()"
   ]
  },
  {
   "cell_type": "code",
   "execution_count": 107,
   "metadata": {},
   "outputs": [
    {
     "data": {
      "text/plain": [
       "0.88399132891020171"
      ]
     },
     "execution_count": 107,
     "metadata": {},
     "output_type": "execute_result"
    }
   ],
   "source": [
    "forest_fullset.score(X, y)"
   ]
  },
  {
   "cell_type": "code",
   "execution_count": 108,
   "metadata": {},
   "outputs": [
    {
     "data": {
      "text/plain": [
       "0.68757661291849137"
      ]
     },
     "execution_count": 108,
     "metadata": {},
     "output_type": "execute_result"
    }
   ],
   "source": [
    "roc_auc_score(y, logreg_fullset.predict_proba(X)[:, 1])"
   ]
  },
  {
   "cell_type": "code",
   "execution_count": 98,
   "metadata": {},
   "outputs": [
    {
     "data": {
      "text/html": [
       "<div>\n",
       "<style>\n",
       "    .dataframe thead tr:only-child th {\n",
       "        text-align: right;\n",
       "    }\n",
       "\n",
       "    .dataframe thead th {\n",
       "        text-align: left;\n",
       "    }\n",
       "\n",
       "    .dataframe tbody tr th {\n",
       "        vertical-align: top;\n",
       "    }\n",
       "</style>\n",
       "<table border=\"1\" class=\"dataframe\">\n",
       "  <thead>\n",
       "    <tr style=\"text-align: right;\">\n",
       "      <th></th>\n",
       "      <th>AGE</th>\n",
       "      <th>PERSONAL_INCOME</th>\n",
       "      <th>REG_ADDRESS_PROVINCE</th>\n",
       "      <th>FACT_ADDRESS_PROVINCE</th>\n",
       "      <th>CREDIT</th>\n",
       "      <th>TERM</th>\n",
       "      <th>FST_PAYMENT</th>\n",
       "      <th>FACT_LIVING_TERM</th>\n",
       "      <th>WORK_TIME</th>\n",
       "      <th>LOAN_NUM_TOTAL</th>\n",
       "      <th>...</th>\n",
       "      <th>REG_PHONE_FL_1</th>\n",
       "      <th>GEN_PHONE_FL_0</th>\n",
       "      <th>GEN_PHONE_FL_1</th>\n",
       "      <th>AGE_CATEGORY_1</th>\n",
       "      <th>AGE_CATEGORY_2</th>\n",
       "      <th>AGE_CATEGORY_3</th>\n",
       "      <th>AGE_CATEGORY_4</th>\n",
       "      <th>AGE_CATEGORY_5</th>\n",
       "      <th>WITHOUT_DELAY_0</th>\n",
       "      <th>WITHOUT_DELAY_1</th>\n",
       "    </tr>\n",
       "  </thead>\n",
       "  <tbody>\n",
       "    <tr>\n",
       "      <th>0</th>\n",
       "      <td>49</td>\n",
       "      <td>5000.0</td>\n",
       "      <td>253</td>\n",
       "      <td>250</td>\n",
       "      <td>8000.00</td>\n",
       "      <td>6</td>\n",
       "      <td>8650.0</td>\n",
       "      <td>220</td>\n",
       "      <td>18.0</td>\n",
       "      <td>1</td>\n",
       "      <td>...</td>\n",
       "      <td>0</td>\n",
       "      <td>0</td>\n",
       "      <td>1</td>\n",
       "      <td>0</td>\n",
       "      <td>0</td>\n",
       "      <td>1</td>\n",
       "      <td>0</td>\n",
       "      <td>0</td>\n",
       "      <td>0</td>\n",
       "      <td>1</td>\n",
       "    </tr>\n",
       "    <tr>\n",
       "      <th>1</th>\n",
       "      <td>32</td>\n",
       "      <td>12000.0</td>\n",
       "      <td>127</td>\n",
       "      <td>127</td>\n",
       "      <td>21650.00</td>\n",
       "      <td>6</td>\n",
       "      <td>4000.0</td>\n",
       "      <td>137</td>\n",
       "      <td>97.0</td>\n",
       "      <td>1</td>\n",
       "      <td>...</td>\n",
       "      <td>0</td>\n",
       "      <td>0</td>\n",
       "      <td>1</td>\n",
       "      <td>0</td>\n",
       "      <td>1</td>\n",
       "      <td>0</td>\n",
       "      <td>0</td>\n",
       "      <td>0</td>\n",
       "      <td>0</td>\n",
       "      <td>1</td>\n",
       "    </tr>\n",
       "    <tr>\n",
       "      <th>2</th>\n",
       "      <td>52</td>\n",
       "      <td>9000.0</td>\n",
       "      <td>202</td>\n",
       "      <td>203</td>\n",
       "      <td>33126.00</td>\n",
       "      <td>12</td>\n",
       "      <td>4000.0</td>\n",
       "      <td>251</td>\n",
       "      <td>84.0</td>\n",
       "      <td>2</td>\n",
       "      <td>...</td>\n",
       "      <td>0</td>\n",
       "      <td>0</td>\n",
       "      <td>1</td>\n",
       "      <td>0</td>\n",
       "      <td>0</td>\n",
       "      <td>0</td>\n",
       "      <td>1</td>\n",
       "      <td>0</td>\n",
       "      <td>1</td>\n",
       "      <td>0</td>\n",
       "    </tr>\n",
       "    <tr>\n",
       "      <th>3</th>\n",
       "      <td>39</td>\n",
       "      <td>25000.0</td>\n",
       "      <td>407</td>\n",
       "      <td>404</td>\n",
       "      <td>8491.82</td>\n",
       "      <td>6</td>\n",
       "      <td>5000.0</td>\n",
       "      <td>36</td>\n",
       "      <td>168.0</td>\n",
       "      <td>1</td>\n",
       "      <td>...</td>\n",
       "      <td>1</td>\n",
       "      <td>0</td>\n",
       "      <td>1</td>\n",
       "      <td>0</td>\n",
       "      <td>1</td>\n",
       "      <td>0</td>\n",
       "      <td>0</td>\n",
       "      <td>0</td>\n",
       "      <td>0</td>\n",
       "      <td>1</td>\n",
       "    </tr>\n",
       "    <tr>\n",
       "      <th>4</th>\n",
       "      <td>30</td>\n",
       "      <td>12000.0</td>\n",
       "      <td>127</td>\n",
       "      <td>127</td>\n",
       "      <td>21990.00</td>\n",
       "      <td>12</td>\n",
       "      <td>4000.0</td>\n",
       "      <td>83</td>\n",
       "      <td>101.0</td>\n",
       "      <td>2</td>\n",
       "      <td>...</td>\n",
       "      <td>0</td>\n",
       "      <td>0</td>\n",
       "      <td>1</td>\n",
       "      <td>1</td>\n",
       "      <td>0</td>\n",
       "      <td>0</td>\n",
       "      <td>0</td>\n",
       "      <td>0</td>\n",
       "      <td>0</td>\n",
       "      <td>1</td>\n",
       "    </tr>\n",
       "  </tbody>\n",
       "</table>\n",
       "<p>5 rows × 292 columns</p>\n",
       "</div>"
      ],
      "text/plain": [
       "   AGE  PERSONAL_INCOME  REG_ADDRESS_PROVINCE  FACT_ADDRESS_PROVINCE  \\\n",
       "0   49           5000.0                   253                    250   \n",
       "1   32          12000.0                   127                    127   \n",
       "2   52           9000.0                   202                    203   \n",
       "3   39          25000.0                   407                    404   \n",
       "4   30          12000.0                   127                    127   \n",
       "\n",
       "     CREDIT  TERM  FST_PAYMENT  FACT_LIVING_TERM  WORK_TIME  LOAN_NUM_TOTAL  \\\n",
       "0   8000.00     6       8650.0               220       18.0               1   \n",
       "1  21650.00     6       4000.0               137       97.0               1   \n",
       "2  33126.00    12       4000.0               251       84.0               2   \n",
       "3   8491.82     6       5000.0                36      168.0               1   \n",
       "4  21990.00    12       4000.0                83      101.0               2   \n",
       "\n",
       "        ...         REG_PHONE_FL_1  GEN_PHONE_FL_0  GEN_PHONE_FL_1  \\\n",
       "0       ...                      0               0               1   \n",
       "1       ...                      0               0               1   \n",
       "2       ...                      0               0               1   \n",
       "3       ...                      1               0               1   \n",
       "4       ...                      0               0               1   \n",
       "\n",
       "   AGE_CATEGORY_1  AGE_CATEGORY_2  AGE_CATEGORY_3  AGE_CATEGORY_4  \\\n",
       "0               0               0               1               0   \n",
       "1               0               1               0               0   \n",
       "2               0               0               0               1   \n",
       "3               0               1               0               0   \n",
       "4               1               0               0               0   \n",
       "\n",
       "   AGE_CATEGORY_5  WITHOUT_DELAY_0  WITHOUT_DELAY_1  \n",
       "0               0                0                1  \n",
       "1               0                0                1  \n",
       "2               0                1                0  \n",
       "3               0                0                1  \n",
       "4               0                0                1  \n",
       "\n",
       "[5 rows x 292 columns]"
      ]
     },
     "execution_count": 98,
     "metadata": {},
     "output_type": "execute_result"
    }
   ],
   "source": [
    "data = DataFrame.from_csv('data/Credit_OTP_processed_dummies.csv', encoding='utf-8')\n",
    "data.head()"
   ]
  },
  {
   "cell_type": "code",
   "execution_count": 99,
   "metadata": {
    "scrolled": true
   },
   "outputs": [
    {
     "data": {
      "text/plain": [
       "(15223, 292)"
      ]
     },
     "execution_count": 99,
     "metadata": {},
     "output_type": "execute_result"
    }
   ],
   "source": [
    "data.shape"
   ]
  },
  {
   "cell_type": "code",
   "execution_count": 100,
   "metadata": {},
   "outputs": [
    {
     "ename": "ValueError",
     "evalue": "labels ['TARGET'] not contained in axis",
     "output_type": "error",
     "traceback": [
      "\u001b[0;31m---------------------------------------------------------------------------\u001b[0m",
      "\u001b[0;31mValueError\u001b[0m                                Traceback (most recent call last)",
      "\u001b[0;32m<ipython-input-100-98f48bf49503>\u001b[0m in \u001b[0;36m<module>\u001b[0;34m()\u001b[0m\n\u001b[0;32m----> 1\u001b[0;31m \u001b[0mX\u001b[0m \u001b[0;34m=\u001b[0m \u001b[0mdata\u001b[0m\u001b[0;34m.\u001b[0m\u001b[0mdrop\u001b[0m\u001b[0;34m(\u001b[0m\u001b[0;34m'TARGET'\u001b[0m\u001b[0;34m,\u001b[0m \u001b[0maxis\u001b[0m\u001b[0;34m=\u001b[0m\u001b[0;36m1\u001b[0m\u001b[0;34m)\u001b[0m\u001b[0;34m\u001b[0m\u001b[0m\n\u001b[0m\u001b[1;32m      2\u001b[0m \u001b[0my\u001b[0m \u001b[0;34m=\u001b[0m \u001b[0mdata\u001b[0m\u001b[0;34m[\u001b[0m\u001b[0;34m'TARGET'\u001b[0m\u001b[0;34m]\u001b[0m\u001b[0;34m\u001b[0m\u001b[0m\n",
      "\u001b[0;32m/anaconda/lib/python3.6/site-packages/pandas/core/generic.py\u001b[0m in \u001b[0;36mdrop\u001b[0;34m(self, labels, axis, level, inplace, errors)\u001b[0m\n\u001b[1;32m   2048\u001b[0m                 \u001b[0mnew_axis\u001b[0m \u001b[0;34m=\u001b[0m \u001b[0maxis\u001b[0m\u001b[0;34m.\u001b[0m\u001b[0mdrop\u001b[0m\u001b[0;34m(\u001b[0m\u001b[0mlabels\u001b[0m\u001b[0;34m,\u001b[0m \u001b[0mlevel\u001b[0m\u001b[0;34m=\u001b[0m\u001b[0mlevel\u001b[0m\u001b[0;34m,\u001b[0m \u001b[0merrors\u001b[0m\u001b[0;34m=\u001b[0m\u001b[0merrors\u001b[0m\u001b[0;34m)\u001b[0m\u001b[0;34m\u001b[0m\u001b[0m\n\u001b[1;32m   2049\u001b[0m             \u001b[0;32melse\u001b[0m\u001b[0;34m:\u001b[0m\u001b[0;34m\u001b[0m\u001b[0m\n\u001b[0;32m-> 2050\u001b[0;31m                 \u001b[0mnew_axis\u001b[0m \u001b[0;34m=\u001b[0m \u001b[0maxis\u001b[0m\u001b[0;34m.\u001b[0m\u001b[0mdrop\u001b[0m\u001b[0;34m(\u001b[0m\u001b[0mlabels\u001b[0m\u001b[0;34m,\u001b[0m \u001b[0merrors\u001b[0m\u001b[0;34m=\u001b[0m\u001b[0merrors\u001b[0m\u001b[0;34m)\u001b[0m\u001b[0;34m\u001b[0m\u001b[0m\n\u001b[0m\u001b[1;32m   2051\u001b[0m             \u001b[0mdropped\u001b[0m \u001b[0;34m=\u001b[0m \u001b[0mself\u001b[0m\u001b[0;34m.\u001b[0m\u001b[0mreindex\u001b[0m\u001b[0;34m(\u001b[0m\u001b[0;34m**\u001b[0m\u001b[0;34m{\u001b[0m\u001b[0maxis_name\u001b[0m\u001b[0;34m:\u001b[0m \u001b[0mnew_axis\u001b[0m\u001b[0;34m}\u001b[0m\u001b[0;34m)\u001b[0m\u001b[0;34m\u001b[0m\u001b[0m\n\u001b[1;32m   2052\u001b[0m             \u001b[0;32mtry\u001b[0m\u001b[0;34m:\u001b[0m\u001b[0;34m\u001b[0m\u001b[0m\n",
      "\u001b[0;32m/anaconda/lib/python3.6/site-packages/pandas/core/indexes/base.py\u001b[0m in \u001b[0;36mdrop\u001b[0;34m(self, labels, errors)\u001b[0m\n\u001b[1;32m   3573\u001b[0m             \u001b[0;32mif\u001b[0m \u001b[0merrors\u001b[0m \u001b[0;34m!=\u001b[0m \u001b[0;34m'ignore'\u001b[0m\u001b[0;34m:\u001b[0m\u001b[0;34m\u001b[0m\u001b[0m\n\u001b[1;32m   3574\u001b[0m                 raise ValueError('labels %s not contained in axis' %\n\u001b[0;32m-> 3575\u001b[0;31m                                  labels[mask])\n\u001b[0m\u001b[1;32m   3576\u001b[0m             \u001b[0mindexer\u001b[0m \u001b[0;34m=\u001b[0m \u001b[0mindexer\u001b[0m\u001b[0;34m[\u001b[0m\u001b[0;34m~\u001b[0m\u001b[0mmask\u001b[0m\u001b[0;34m]\u001b[0m\u001b[0;34m\u001b[0m\u001b[0m\n\u001b[1;32m   3577\u001b[0m         \u001b[0;32mreturn\u001b[0m \u001b[0mself\u001b[0m\u001b[0;34m.\u001b[0m\u001b[0mdelete\u001b[0m\u001b[0;34m(\u001b[0m\u001b[0mindexer\u001b[0m\u001b[0;34m)\u001b[0m\u001b[0;34m\u001b[0m\u001b[0m\n",
      "\u001b[0;31mValueError\u001b[0m: labels ['TARGET'] not contained in axis"
     ]
    }
   ],
   "source": [
    "X = data.drop('TARGET', axis=1)\n",
    "y = data['TARGET']"
   ]
  },
  {
   "cell_type": "code",
   "execution_count": null,
   "metadata": {
    "collapsed": true
   },
   "outputs": [],
   "source": [
    "train_acc = []\n",
    "test_acc = []\n",
    "temp_train_acc = []\n",
    "temp_test_acc = []\n",
    "trees_grid = [5, 10, 25, 50, 100, 150, 200, 250, 300]\n",
    "\n",
    "for ntrees in trees_grid:\n",
    "    rf = RandomForestClassifier(n_estimators=ntrees, random_state=42, n_jobs=-1)\n",
    "    temp_train_acc = []\n",
    "    temp_test_acc = []\n",
    "    for train_index, test_index in strat.split(X, y):\n",
    "        X_train, X_test = X.iloc[train_index], X.iloc[test_index]\n",
    "        y_train, y_test = y[train_index], y[test_index]\n",
    "        rf.fit(X_train, y_train)\n",
    "        temp_train_acc.append(rf.score(X_train, y_train))\n",
    "        temp_test_acc.append(rf.score(X_test, y_test))\n",
    "    train_acc.append(temp_train_acc)\n",
    "    test_acc.append(temp_test_acc)\n",
    "\n",
    "train_acc, test_acc = np.asarray(train_acc), np.asarray(test_acc)\n",
    "print(\"Наилучшее значение правильности перекрестной проверки равно {:.2f}% и достигается при {} деревьях\".format(max(test_acc.mean(axis=1))*100, \n",
    "                                                        trees_grid[np.argmax(test_acc.mean(axis=1))]))"
   ]
  },
  {
   "cell_type": "code",
   "execution_count": null,
   "metadata": {
    "collapsed": true
   },
   "outputs": [],
   "source": [
    "plt.style.use('ggplot')\n",
    "\n",
    "fig, ax = plt.subplots(figsize=(16, 10))\n",
    "ax.plot(trees_grid, train_acc.mean(axis=1), alpha=0.5, color='blue', \n",
    "        label='обучение')\n",
    "ax.plot(trees_grid, test_acc.mean(axis=1), alpha=0.5, color='red', \n",
    "        label='перекрестная проверка')\n",
    "ax.fill_between(trees_grid, test_acc.mean(axis=1) - test_acc.std(axis=1), test_acc.mean(axis=1) + test_acc.std(axis=1), color='#888888', alpha=0.4)\n",
    "ax.fill_between(trees_grid, test_acc.mean(axis=1) - 2*test_acc.std(axis=1), test_acc.mean(axis=1) + 2*test_acc.std(axis=1), color='#888888', alpha=0.2)\n",
    "ax.legend(loc='best')\n",
    "ax.set_ylim([0.85,1.01])\n",
    "ax.set_ylabel(\"Правильность\")\n",
    "ax.set_xlabel(\"Количество деревьев\")"
   ]
  },
  {
   "cell_type": "code",
   "execution_count": null,
   "metadata": {
    "collapsed": true
   },
   "outputs": [],
   "source": [
    "n_trees = 75"
   ]
  },
  {
   "cell_type": "code",
   "execution_count": null,
   "metadata": {
    "collapsed": true
   },
   "outputs": [],
   "source": [
    "strat = StratifiedKFold(n_splits=10, shuffle=True, random_state=42)\n",
    "\n",
    "X_trainval, X_test, y_trainval, y_test = train_test_split(data.drop('TARGET', axis=1), data['TARGET'],\n",
    "                                                          test_size=0.3, random_state=42)\n",
    "print(\"Размер обучающей выборки: {} размер тестовой выборки: {}\".format(X_trainval.shape[0], X_test.shape[0]))\n",
    "\n",
    "best_score = 0\n",
    "\n",
    "for max_depth in [10, 12, 14, 16, 18, 20, 22]:\n",
    "    for max_features in [3, 6, 9, 12, 15, 18, 21]:\n",
    "        # для каждой комбинации параметров обучаем случайный лес\n",
    "        rf = RandomForestClassifier(max_depth=max_depth, max_features=max_features,  \n",
    "                                    n_estimators=75, n_jobs=-1, random_state=42)\n",
    "        # выполняем перекрестную проверку        \n",
    "        scores = cross_val_score(rf, X_trainval, y_trainval, scoring='roc_auc', cv=strat)\n",
    "        # вычисляем среднее значение AUC перекрестной проверки \n",
    "        auc_score = np.mean(scores)\n",
    "        # если получаем лучшее значение AUC, сохраняем его и параметры\n",
    "        if auc_score > best_score:\n",
    "            best_score = auc_score\n",
    "            best_parameters = {'max_features': max_features, 'max_depth': max_depth}\n",
    "# строим модель с параметрами, давшими наилучшее значение AUC на обучающей выборке, \n",
    "# и проверяем на тестовой выборке\n",
    "rf_best = RandomForestClassifier(**best_parameters, n_estimators=300, random_state=42)\n",
    "rf_best.fit(X_trainval, y_trainval)\n",
    "test_score = roc_auc_score(y_test, rf_best.predict_proba(X_test)[:, 1])\n",
    "print(\"Лучшее усредненное значение AUC cv: {:.2f}\".format(best_score))\n",
    "print(\"Наилучшие значения параметров: \", best_parameters)\n",
    "print(\"AUC модели с наилучшими параметрами на тестовой выборке: {:.2f}\".format(test_score))"
   ]
  },
  {
   "cell_type": "code",
   "execution_count": null,
   "metadata": {
    "collapsed": true
   },
   "outputs": [],
   "source": [
    "param_grid = {'max_features': [3, 4, 5, 6, 7, 8, 9, 12, 15, 18, 21], 'max_depth': [6, 8, 10, 12, 14, 16, 18, 20, 22]}"
   ]
  },
  {
   "cell_type": "code",
   "execution_count": null,
   "metadata": {
    "collapsed": true
   },
   "outputs": [],
   "source": [
    "rf = RandomForestClassifier(n_estimators=n_trees, random_state=42)\n",
    "grid_search = GridSearchCV(rf, param_grid, n_jobs=-1, cv=strat)\n",
    "grid_search.fit(X_trainval, y_trainval)\n",
    "test_score = roc_auc_score(y_test, grid_search.predict(x_test))\n",
    "print(\"AUC на тестовой выборке: {:.2f}\".format(test_score))\n",
    "print(\"Наилучшие значения параметров: {}\".format(grid_search.best_params_))"
   ]
  },
  {
   "cell_type": "code",
   "execution_count": null,
   "metadata": {
    "collapsed": true
   },
   "outputs": [],
   "source": []
  },
  {
   "cell_type": "code",
   "execution_count": null,
   "metadata": {
    "collapsed": true
   },
   "outputs": [],
   "source": []
  },
  {
   "cell_type": "code",
   "execution_count": null,
   "metadata": {
    "collapsed": true
   },
   "outputs": [],
   "source": []
  },
  {
   "cell_type": "code",
   "execution_count": null,
   "metadata": {
    "collapsed": true
   },
   "outputs": [],
   "source": []
  },
  {
   "cell_type": "code",
   "execution_count": 6,
   "metadata": {
    "collapsed": true
   },
   "outputs": [],
   "source": [
    "logreg = LogisticRegression()"
   ]
  },
  {
   "cell_type": "code",
   "execution_count": 7,
   "metadata": {},
   "outputs": [
    {
     "data": {
      "text/plain": [
       "LogisticRegression(C=1.0, class_weight=None, dual=False, fit_intercept=True,\n",
       "          intercept_scaling=1, max_iter=100, multi_class='ovr', n_jobs=1,\n",
       "          penalty='l2', random_state=None, solver='liblinear', tol=0.0001,\n",
       "          verbose=0, warm_start=False)"
      ]
     },
     "execution_count": 7,
     "metadata": {},
     "output_type": "execute_result"
    }
   ],
   "source": [
    "logreg.fit(X_train, y_train)"
   ]
  },
  {
   "cell_type": "code",
   "execution_count": 9,
   "metadata": {},
   "outputs": [
    {
     "data": {
      "text/plain": [
       "0.87861271676300579"
      ]
     },
     "execution_count": 9,
     "metadata": {},
     "output_type": "execute_result"
    }
   ],
   "source": [
    "logreg.score(X_test, y_test)"
   ]
  },
  {
   "cell_type": "code",
   "execution_count": 13,
   "metadata": {},
   "outputs": [
    {
     "data": {
      "text/plain": [
       "array([0, 0, 0, ..., 0, 0, 0])"
      ]
     },
     "execution_count": 13,
     "metadata": {},
     "output_type": "execute_result"
    }
   ],
   "source": [
    "logreg.predict(X_test)"
   ]
  },
  {
   "cell_type": "code",
   "execution_count": 15,
   "metadata": {},
   "outputs": [
    {
     "name": "stdout",
     "output_type": "stream",
     "text": [
      "Значение AUC для контрольной выборки: 0.500\n"
     ]
    }
   ],
   "source": [
    "# Из модуля sklearn.metrics импортируем функцию roc_auc_score\n",
    "from sklearn.metrics import roc_auc_score\n",
    "# Вычисляем значение AUC, передав функции roc_curve в качестве аргументов\n",
    "# фактические значения зависимой переменной, записанные в y_control, \n",
    "# и вероятности положительного класса, вычисленные с помощью метода predict_proba\n",
    "rf_auc = roc_auc_score(y_test, logreg.predict(X_test))\n",
    "# Печатаем значение AUC\n",
    "print(\"Значение AUC для контрольной выборки: {:.3f}\".format(rf_auc))"
   ]
  },
  {
   "cell_type": "code",
   "execution_count": null,
   "metadata": {
    "collapsed": true
   },
   "outputs": [],
   "source": []
  },
  {
   "cell_type": "code",
   "execution_count": null,
   "metadata": {
    "collapsed": true
   },
   "outputs": [],
   "source": []
  },
  {
   "cell_type": "code",
   "execution_count": null,
   "metadata": {
    "collapsed": true
   },
   "outputs": [],
   "source": [
    "data['PREVIOUS_CARD_NUM_UTILIZED'] = data['PREVIOUS_CARD_NUM_UTILIZED'].replace(data['PREVIOUS_CARD_NUM_UTILIZED'][0], 0)\n",
    "\n",
    "data.drop('AGREEMENT_RK', axis=1, inplace=True)\n",
    "data.drop('DL_DOCUMENT_FL', axis=1, inplace=True)\n",
    "data.at[(data['GEN_INDUSTRY'] == 'nan') & (data['GEN_TITLE'] == 'nan'), 'WORK_TIME'] = 0\n",
    "\n",
    "maxy = max(data['WORK_TIME'].sort_values()[:heu_const_work_time])\n",
    "data.at[data['WORK_TIME'] > maxy, 'WORK_TIME'] = np.NaN\n",
    "true_median = data[data['WORK_TIME'] != 0]['WORK_TIME'].dropna().sort_values()[:heu_const_work_time].median()\n",
    "data['WORK_TIME'].fillna(true_median, inplace=True)\n",
    "\n",
    "for i in ['PERSONAL_INCOME', 'CREDIT', 'FST_PAYMENT', 'LOAN_AVG_DLQ_AMT', 'LOAN_MAX_DLQ_AMT']:\n",
    "    if i in data.columns:\n",
    "        data[i] = data[i].str.replace(',', '.').astype('float')\n",
    "        \n",
    "data.at[data['EDUCATION'] == 'Ученая степень', 'EDUCATION'] = 'Высшее'\n",
    "data.at[data['EDUCATION'] == 'Два и более высших образования', 'EDUCATION'] = 'Высшее'\n",
    "\n",
    "data.at[data['GEN_INDUSTRY'] == 'Маркетинг', 'GEN_INDUSTRY'] = 'СМИ/Реклама/PR-агенства'\n",
    "small_categories_aggregation(column='GEN_INDUSTRY', n_samples=20, value='Другие сферы')\n",
    "data.at[data['ORG_TP_STATE'] == 'Частная ком. с инос. капиталом', 'ORG_TP_STATE'] = 'Частная компания'\n",
    "\n",
    "data.at[data['TP_PROVINCE'] == 'Кабардино-Балкария', 'TP_PROVINCE'] = 'Ставропольский край'\n",
    "\n",
    "data.at[data['POSTAL_ADDRESS_PROVINCE'] == 'Эвенкийский АО', 'POSTAL_ADDRESS_PROVINCE'] = 'Красноярский край'\n",
    "data.at[data['POSTAL_ADDRESS_PROVINCE'] == 'Агинский Бурятский АО', 'POSTAL_ADDRESS_PROVINCE'] = 'Красноярский край'\n",
    "data.at[data['POSTAL_ADDRESS_PROVINCE'] == 'Усть-Ордынский Бурятский АО', 'POSTAL_ADDRESS_PROVINCE'] = 'Красноярский край'\n",
    "\n",
    "data.at[data['FACT_ADDRESS_PROVINCE'] == 'Эвенкийский АО', 'FACT_ADDRESS_PROVINCE'] = 'Красноярский край'\n",
    "data.at[data['FACT_ADDRESS_PROVINCE'] == 'Агинский Бурятский АО', 'FACT_ADDRESS_PROVINCE'] = 'Красноярский край'\n",
    "data.at[data['FACT_ADDRESS_PROVINCE'] == 'Усть-Ордынский Бурятский АО', 'FACT_ADDRESS_PROVINCE'] = 'Красноярский край'\n",
    "data.at[data['FACT_ADDRESS_PROVINCE'] == 'Дагестан', 'FACT_ADDRESS_PROVINCE'] = 'Северная Осетия'\n",
    "\n",
    "data.at[data['REGION_NM'] == 'nan', 'REGION_NM'] = 'ЮЖНЫЙ'\n",
    "\n",
    "data['SOLVENCY'] = data['PERSONAL_INCOME']/(data['CREDIT']/data['TERM'])\n",
    "\n",
    "data.at[data['FACT_LIVING_TERM'] < 0, 'FACT_LIVING_TERM'] = 0\n",
    "\n",
    "maxy = max(data['FACT_LIVING_TERM'].sort_values()[:heu_const_work_time])\n",
    "\n",
    "data.at[data['FACT_LIVING_TERM'] > maxy, 'FACT_LIVING_TERM'] = np.NaN\n",
    "len(data['FACT_LIVING_TERM'].dropna())\n",
    "\n",
    "true_median = data[data['FACT_LIVING_TERM'] != 0]['FACT_LIVING_TERM'].dropna().sort_values()[:heu_const_work_time].median()\n",
    "data['FACT_LIVING_TERM'].fillna(true_median, inplace=True)"
   ]
  }
 ],
 "metadata": {
  "kernelspec": {
   "display_name": "Python 3",
   "language": "python",
   "name": "python3"
  },
  "language_info": {
   "codemirror_mode": {
    "name": "ipython",
    "version": 3
   },
   "file_extension": ".py",
   "mimetype": "text/x-python",
   "name": "python",
   "nbconvert_exporter": "python",
   "pygments_lexer": "ipython3",
   "version": "3.6.1"
  }
 },
 "nbformat": 4,
 "nbformat_minor": 2
}
